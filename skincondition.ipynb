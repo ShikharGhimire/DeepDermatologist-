{
  "nbformat": 4,
  "nbformat_minor": 0,
  "metadata": {
    "colab": {
      "name": "skincondition.ipynb",
      "provenance": [],
      "collapsed_sections": []
    },
    "kernelspec": {
      "name": "python3",
      "display_name": "Python 3"
    }
  },
  "cells": [
    {
      "cell_type": "code",
      "metadata": {
        "id": "0TiblSGyaTO8",
        "colab_type": "code",
        "colab": {}
      },
      "source": [
        "from google.colab import drive\n",
        "drive.mount('/content/gdrive/')"
      ],
      "execution_count": 0,
      "outputs": []
    },
    {
      "cell_type": "code",
      "metadata": {
        "id": "oEC_SMpic67m",
        "colab_type": "code",
        "colab": {}
      },
      "source": [
        "from google.colab import files\n",
        "files.upload()"
      ],
      "execution_count": 0,
      "outputs": []
    },
    {
      "cell_type": "code",
      "metadata": {
        "id": "d-nN6Gf5c_dZ",
        "colab_type": "code",
        "colab": {}
      },
      "source": [
        "!pip install -q kaggle"
      ],
      "execution_count": 0,
      "outputs": []
    },
    {
      "cell_type": "code",
      "metadata": {
        "id": "AkFm_yO6dDgy",
        "colab_type": "code",
        "colab": {}
      },
      "source": [
        "!mkdir -p ~/.kaggle"
      ],
      "execution_count": 0,
      "outputs": []
    },
    {
      "cell_type": "code",
      "metadata": {
        "id": "ve1qlwapdGkB",
        "colab_type": "code",
        "colab": {}
      },
      "source": [
        "!cp kaggle.json ~/.kaggle/"
      ],
      "execution_count": 0,
      "outputs": []
    },
    {
      "cell_type": "code",
      "metadata": {
        "id": "PrD1fCpJdr0a",
        "colab_type": "code",
        "colab": {}
      },
      "source": [
        "cd '/content/gdrive/My Drive/Deep Learning Projects/skincancer'"
      ],
      "execution_count": 0,
      "outputs": []
    },
    {
      "cell_type": "code",
      "metadata": {
        "id": "3A3fDuY8dKI0",
        "colab_type": "code",
        "colab": {}
      },
      "source": [
        "!kaggle datasets download -d kmader/skin-cancer-mnist-ham10000"
      ],
      "execution_count": 0,
      "outputs": []
    },
    {
      "cell_type": "code",
      "metadata": {
        "id": "pOjf3anPmMnc",
        "colab_type": "code",
        "colab": {}
      },
      "source": [
        "!unzip -q skin-cancer-mnist-ham10000.zip"
      ],
      "execution_count": 0,
      "outputs": []
    },
    {
      "cell_type": "code",
      "metadata": {
        "id": "xv5WhrpL6CGO",
        "colab_type": "code",
        "colab": {}
      },
      "source": [
        "!pip install q keras==2.1.5\n",
        "import matplotlib.pyplot as plt\n",
        "import pandas as pd\n",
        "import numpy as np\n",
        "from PIL import Image\n",
        "import os\n",
        "#from tensorflow.keras.preprocessing.image import ImageDataGenerator"
      ],
      "execution_count": 0,
      "outputs": []
    },
    {
      "cell_type": "code",
      "metadata": {
        "id": "yWXv9Tal6QfS",
        "colab_type": "code",
        "colab": {}
      },
      "source": [
        "#Importing sklearn libraries\n",
        "from sklearn.metrics import confusion_matrix\n",
        "from sklearn.model_selection import train_test_split"
      ],
      "execution_count": 0,
      "outputs": []
    },
    {
      "cell_type": "code",
      "metadata": {
        "id": "70IAA1mQ6lvS",
        "colab_type": "code",
        "colab": {}
      },
      "source": [
        "#First checking out the csv file and observing the distributions and the size of the data\n",
        "data = pd.read_csv('/content/gdrive/My Drive/Deep Learning Projects/skincancer/HAM10000_metadata.csv')"
      ],
      "execution_count": 0,
      "outputs": []
    },
    {
      "cell_type": "code",
      "metadata": {
        "id": "e1WQ73sZ91Yv",
        "colab_type": "code",
        "colab": {}
      },
      "source": [
        "data.head()"
      ],
      "execution_count": 0,
      "outputs": []
    },
    {
      "cell_type": "code",
      "metadata": {
        "id": "hnE7q9-y95hC",
        "colab_type": "code",
        "colab": {}
      },
      "source": [
        "data.info() #No nonnull objects"
      ],
      "execution_count": 0,
      "outputs": []
    },
    {
      "cell_type": "code",
      "metadata": {
        "id": "tQo6rnOF9_Ox",
        "colab_type": "code",
        "colab": {}
      },
      "source": [
        "#Since we do not need lesion_id and image_id we drop it\n",
        "#data.drop(['lesion_id','image_id'],axis=1,inplace=True)"
      ],
      "execution_count": 0,
      "outputs": []
    },
    {
      "cell_type": "code",
      "metadata": {
        "id": "YkPYlIfHB2y0",
        "colab_type": "code",
        "colab": {}
      },
      "source": [
        "data.head()"
      ],
      "execution_count": 0,
      "outputs": []
    },
    {
      "cell_type": "code",
      "metadata": {
        "id": "gsvnFp94EPlD",
        "colab_type": "code",
        "colab": {}
      },
      "source": [
        "data.dx.value_counts()"
      ],
      "execution_count": 0,
      "outputs": []
    },
    {
      "cell_type": "code",
      "metadata": {
        "id": "o-cglXxtEUUy",
        "colab_type": "code",
        "colab": {}
      },
      "source": [
        "data.age.value_counts()"
      ],
      "execution_count": 0,
      "outputs": []
    },
    {
      "cell_type": "code",
      "metadata": {
        "id": "vl3MfZgACTkY",
        "colab_type": "code",
        "colab": {}
      },
      "source": [
        "#Checking if there is any missing values in some coloumns\n",
        "coloumns = data[['dx','dx_type','age','sex']]\n",
        "\n",
        "for col in coloumns:\n",
        "  print(coloumns[col].value_counts())\n",
        "\n",
        "  #DX stands for diagnosis of the patients\n",
        "\n",
        "\n",
        "  #NV-Melanocytic Nevi -6705\n",
        "  #MEL- Melanoma -1113\n",
        "  #BKL- Benign keratosis-like lesions - 1099\n",
        "  #BCC- Basal Cell Carcinoma - 514\n",
        "  #AKIEC - Actinic Keratoses - 327\n",
        "  #VASC - Vascular Lesions - 142\n",
        "  #DF - Dermatofibroma - 115\n",
        "\n",
        "  #DX_TYPE and how to diagnosis were made\n",
        "  #Histo - 5304\n",
        "  #Follow_up - 3704\n",
        "  #Consensus - 902\n",
        "  #Confocal - 69\n",
        "\n",
        "  #Age - \n",
        "  #45 years - 1299\n",
        "  # -50 years -1187\n",
        "  # -55 years -1009\n",
        "  # -40 years -985\n",
        "  # -60 years -803\n",
        "  #70 years -756\n",
        "  #35 years -753\n",
        "  #65 years -731\n",
        "  #75 years -618\n",
        "  #30 years -464\n",
        "  #80 years -404\n",
        "  #85 years -290\n",
        "  #25 years -247\n",
        "  #20 years -169\n",
        "  #5 years -86\n",
        "  #15 years -77\n",
        "  #10 years -41\n",
        "  #0 years with 39 people data-Missing data"
      ],
      "execution_count": 0,
      "outputs": []
    },
    {
      "cell_type": "code",
      "metadata": {
        "id": "GJQ-Q9BVC1IT",
        "colab_type": "code",
        "colab": {}
      },
      "source": [
        "#Checking out the association between the lesion_id and the images\n",
        "data_filtering = data.groupby('lesion_id').count()"
      ],
      "execution_count": 0,
      "outputs": []
    },
    {
      "cell_type": "code",
      "metadata": {
        "id": "UIwIE32OW_Fd",
        "colab_type": "code",
        "colab": {}
      },
      "source": [
        "data_filtering = data_filtering[data_filtering['image_id']==1]"
      ],
      "execution_count": 0,
      "outputs": []
    },
    {
      "cell_type": "code",
      "metadata": {
        "id": "AV9alvCBmW_E",
        "colab_type": "code",
        "colab": {}
      },
      "source": [
        "data_filtering.reset_index(inplace=True) #Creating a new dataframes using the dataframes given"
      ],
      "execution_count": 0,
      "outputs": []
    },
    {
      "cell_type": "code",
      "metadata": {
        "id": "v-9VHR9Zm9eN",
        "colab_type": "code",
        "colab": {}
      },
      "source": [
        "data_filtering.head()"
      ],
      "execution_count": 0,
      "outputs": []
    },
    {
      "cell_type": "code",
      "metadata": {
        "id": "RGaYEKWzm_31",
        "colab_type": "code",
        "colab": {}
      },
      "source": [
        "#Checking the lesion_id for any dublicate images and images with only 1 image_id\n",
        "def read_duplicates(x):\n",
        "  new_data = list(data_filtering['lesion_id'])\n",
        "  if x in new_data:\n",
        "    return 'unduplicated'\n",
        "  else:\n",
        "    return 'duplicated'\n"
      ],
      "execution_count": 0,
      "outputs": []
    },
    {
      "cell_type": "code",
      "metadata": {
        "id": "vA4FZxKdrWxt",
        "colab_type": "code",
        "colab": {}
      },
      "source": [
        "#Creating a new coloumn that is the copy of lesion_id\n",
        "data['duplicates'] = data['lesion_id']"
      ],
      "execution_count": 0,
      "outputs": []
    },
    {
      "cell_type": "code",
      "metadata": {
        "id": "IsWcUVS6ryhz",
        "colab_type": "code",
        "colab": {}
      },
      "source": [
        "#Time to apply the new function created to the new coloumn\n",
        "data['duplicates'] = data['duplicates'].apply(read_duplicates)"
      ],
      "execution_count": 0,
      "outputs": []
    },
    {
      "cell_type": "code",
      "metadata": {
        "id": "IgQam86dtX0z",
        "colab_type": "code",
        "colab": {}
      },
      "source": [
        "data.head()"
      ],
      "execution_count": 0,
      "outputs": []
    },
    {
      "cell_type": "code",
      "metadata": {
        "id": "sjDjPjl8tfa1",
        "colab_type": "code",
        "colab": {}
      },
      "source": [
        "data['duplicates'].value_counts()\n",
        "#Looks like there are high number of duplicated values "
      ],
      "execution_count": 0,
      "outputs": []
    },
    {
      "cell_type": "code",
      "metadata": {
        "id": "NO_HFTDxuBJc",
        "colab_type": "code",
        "colab": {}
      },
      "source": [
        "#First filtering out images that don't have duplicated values\n",
        "data_filtering = data[data['duplicates']=='unduplicated'] #Creating new dataframe using \"unduplicated\" string from duplicates"
      ],
      "execution_count": 0,
      "outputs": []
    },
    {
      "cell_type": "code",
      "metadata": {
        "id": "cofDxsTCvRhS",
        "colab_type": "code",
        "colab": {}
      },
      "source": [
        "data_filtering.shape"
      ],
      "execution_count": 0,
      "outputs": []
    },
    {
      "cell_type": "code",
      "metadata": {
        "id": "V2ca59gzvvXo",
        "colab_type": "code",
        "colab": {}
      },
      "source": [
        "from sklearn.model_selection import train_test_split\n",
        "#Creating a test set from the data\n",
        "y = data_filtering['dx']\n",
        "_,data_val = train_test_split(data_filtering,test_size=0.2,random_state=0,stratify=y)"
      ],
      "execution_count": 0,
      "outputs": []
    },
    {
      "cell_type": "code",
      "metadata": {
        "id": "1_bWYMQn2FHQ",
        "colab_type": "code",
        "colab": {}
      },
      "source": [
        "data_val.shape"
      ],
      "execution_count": 0,
      "outputs": []
    },
    {
      "cell_type": "code",
      "metadata": {
        "id": "KH_KeDrE2MA8",
        "colab_type": "code",
        "colab": {}
      },
      "source": [
        "data_val['dx'].value_counts()"
      ],
      "execution_count": 0,
      "outputs": []
    },
    {
      "cell_type": "code",
      "metadata": {
        "id": "o2WvoXrl2v4w",
        "colab_type": "code",
        "colab": {}
      },
      "source": [
        "#Splitting training data from the validation data in the csv file\n",
        "def trained(y):\n",
        "  val_list =list(data_val['image_id']) #Creating a list of all the lesion Iy\n",
        "  if str(y) in val_list:\n",
        "    return 'validation'\n",
        "  else:\n",
        "    return 'training'"
      ],
      "execution_count": 0,
      "outputs": []
    },
    {
      "cell_type": "code",
      "metadata": {
        "id": "C3W3rNmq6KVv",
        "colab_type": "code",
        "colab": {}
      },
      "source": [
        "data['training_or_validation'] = data['image_id'] #New coloumn and copying training and validaiton"
      ],
      "execution_count": 0,
      "outputs": []
    },
    {
      "cell_type": "code",
      "metadata": {
        "id": "LHBBz4Yi6vFM",
        "colab_type": "code",
        "colab": {}
      },
      "source": [
        "#Using above function into the new coloumn\n",
        "data['training_or_validation'] = data['training_or_validation'].apply(trained)"
      ],
      "execution_count": 0,
      "outputs": []
    },
    {
      "cell_type": "code",
      "metadata": {
        "id": "tIbmaMx568cQ",
        "colab_type": "code",
        "colab": {}
      },
      "source": [
        "training_data = data[data['training_or_validation']=='training']"
      ],
      "execution_count": 0,
      "outputs": []
    },
    {
      "cell_type": "code",
      "metadata": {
        "id": "zua7mGoG7FdE",
        "colab_type": "code",
        "colab": {}
      },
      "source": [
        "print(len(training_data))"
      ],
      "execution_count": 0,
      "outputs": []
    },
    {
      "cell_type": "code",
      "metadata": {
        "id": "3iDZWiP_7UVk",
        "colab_type": "code",
        "colab": {}
      },
      "source": [
        "print(len(data_val))"
      ],
      "execution_count": 0,
      "outputs": []
    },
    {
      "cell_type": "code",
      "metadata": {
        "id": "VZWXW9FE7bRK",
        "colab_type": "code",
        "colab": {}
      },
      "source": [
        "training_data['dx'].value_counts()"
      ],
      "execution_count": 0,
      "outputs": []
    },
    {
      "cell_type": "code",
      "metadata": {
        "id": "p-yDKqWz7hhY",
        "colab_type": "code",
        "colab": {}
      },
      "source": [
        "data_val['dx'].value_counts()"
      ],
      "execution_count": 0,
      "outputs": []
    },
    {
      "cell_type": "code",
      "metadata": {
        "id": "xySWuHvWkTs7",
        "colab_type": "code",
        "colab": {}
      },
      "source": [
        "#Setting the image ID as index in data\n",
        "data.set_index('image_id',inplace=True)"
      ],
      "execution_count": 0,
      "outputs": []
    },
    {
      "cell_type": "code",
      "metadata": {
        "id": "7nYiG2W2iuD7",
        "colab_type": "code",
        "colab": {}
      },
      "source": [
        "#There are two folders linked to all the images\n",
        "first_folder = os.listdir('/content/gdrive/My Drive/Deep Learning Projects/skincancer/ham10000_images_part_1')\n",
        "second_folder = os.listdir('/content/gdrive/My Drive/Deep Learning Projects/skincancer/ham10000_images_part_2')"
      ],
      "execution_count": 0,
      "outputs": []
    },
    {
      "cell_type": "code",
      "metadata": {
        "id": "gGb5PORjjgv0",
        "colab_type": "code",
        "colab": {}
      },
      "source": [
        "#Getting list of training and validation images\n",
        "training_data_list = list(training_data['image_id'])\n",
        "validation_data_list = list(data_val['image_id'])"
      ],
      "execution_count": 0,
      "outputs": []
    },
    {
      "cell_type": "code",
      "metadata": {
        "id": "t4eAbzKvj85W",
        "colab_type": "code",
        "colab": {}
      },
      "source": [
        "#Don't run this section more than once or it will copy all the pictures more than once which we don't want\n",
        "for image in training_data_list:\n",
        "  image_name = image + '.jpg'\n",
        "  label = data.loc[image,'dx']\n",
        "\n",
        "  if image_name in second_folder:\n",
        "    src = os.path.join('/content/gdrive/My Drive/Deep Learning Projects/skincancer/ham10000_images_part_2',image_name)\n",
        "    destination_file = os.path.join('/content/gdrive/My Drive/Deep Learning Projects/skincancer/skin_cancer_classified/training_directory',label,image_name)\n",
        "    shutil.copyfile(src,destination_file)\n",
        "    \n",
        "  if image_name in first_folder:\n",
        "    src = os.path.join('/content/gdrive/My Drive/Deep Learning Projects/skincancer/ham10000_images_part_1',image_name)\n",
        "    destination_file = os.path.join('/content/gdrive/My Drive/Deep Learning Projects/skincancer/skin_cancer_classified/training_directory',label,image_name)\n",
        "    shutil.copyfile(src,destination_file)\n",
        "    "
      ],
      "execution_count": 0,
      "outputs": []
    },
    {
      "cell_type": "code",
      "metadata": {
        "id": "bwNLt5TcUek5",
        "colab_type": "code",
        "colab": {}
      },
      "source": [
        "#Don't run this section more than once or it will copy all the pictures more than once which we don't want\n",
        "for image in validation_data_list:\n",
        "  image_name = image+'.jpg'\n",
        "  label = data.loc[image,'dx']\n",
        "\n",
        "  if image_name in first_folder:\n",
        "    src = os.path.join('/content/gdrive/My Drive/Deep Learning Projects/skincancer/ham10000_images_part_1',image_name)\n",
        "    destination_file = os.path.join('/content/gdrive/My Drive/Deep Learning Projects/skincancer/skin_cancer_classified/testing_directory',label,image_name)\n",
        "    shutil.copyfile(src,destination_file)\n",
        "\n",
        "  \n",
        "  if image_name in second_folder:\n",
        "    src = os.path.join('/content/gdrive/My Drive/Deep Learning Projects/skincancer/ham10000_images_part_2',image_name)\n",
        "    destination_file = os.path.join('/content/gdrive/My Drive/Deep Learning Projects/skincancer/skin_cancer_classified/testing_directory',label,image_name)\n",
        "    shutil.copyfile(src,destination_file)"
      ],
      "execution_count": 0,
      "outputs": []
    },
    {
      "cell_type": "code",
      "metadata": {
        "id": "4aA-M8o81FLd",
        "colab_type": "code",
        "colab": {}
      },
      "source": [
        "#Data augmentation to balance the image dataset\n",
        "#Repeating the numbers of images in both training and testing folder\n",
        "#----------Training-----------\n",
        "#nv       5822\n",
        "#mel      1067\n",
        "#bkl      1011\n",
        "#bcc       479\n",
        "#akiec     297\n",
        "#vasc      129\n",
        "#df        107\n",
        "\n",
        "#-----------Testing--------------\n",
        "\n",
        "#nv       883\n",
        "#bkl       88\n",
        "#mel       46\n",
        "#bcc       35\n",
        "#akiec     30\n",
        "#vasc      13\n",
        "#df         8"
      ],
      "execution_count": 0,
      "outputs": []
    },
    {
      "cell_type": "code",
      "metadata": {
        "id": "SZs6mvD42OyT",
        "colab_type": "code",
        "colab": {}
      },
      "source": [
        "folder_list = ['mel','bkl','bcc','akiec','vasc','df'] "
      ],
      "execution_count": 0,
      "outputs": []
    },
    {
      "cell_type": "code",
      "metadata": {
        "id": "anG4Wr-a2gsR",
        "colab_type": "code",
        "colab": {}
      },
      "source": [
        "for item in folder_list:\n",
        "  augmented_directory = 'augmentation'\n",
        "  os.mkdir(augmented_directory)\n",
        "\n",
        "  image_directory = os.path.join(augmented_directory,'image_directory')\n",
        "  os.mkdir(image_directory)\n",
        "\n",
        "  image_class = item\n",
        "\n",
        "  #Listing all the images in the directory present\n",
        "  image_list = os.listdir('/content/gdrive/My Drive/Deep Learning Projects/skincancer/skin_cancer_classified/training_directory/'+image_class)\n",
        "\n",
        "  #Copying all the images from training_directory into image_directory\n",
        "  for filename in image_list:\n",
        "    src = os.path.join('/content/gdrive/My Drive/Deep Learning Projects/skincancer/skin_cancer_classified/training_directory/'+image_class,filename)\n",
        "    destination = os.path.join(image_directory,filename)\n",
        "    shutil.copyfile(src,destination)\n",
        "  \n",
        "  path = augmented_directory\n",
        "  save_path = '/content/gdrive/My Drive/Deep Learning Projects/skincancer/skin_cancer_classified/training_directory/'+image_class\n",
        "\n",
        "  #Creating a data generator\n",
        "  datagen = ImageDataGenerator(\n",
        "        rotation_range=180,\n",
        "        width_shift_range=0.1,\n",
        "        height_shift_range=0.1,\n",
        "        zoom_range=0.1,\n",
        "        horizontal_flip=True,\n",
        "        vertical_flip=True,\n",
        "        fill_mode='nearest')\n",
        "  \n",
        "  batch_size=50\n",
        "\n",
        "  aug_datagen = datagen.flow_from_directory(path,\n",
        "                                            save_to_dir =save_path,\n",
        "                                            save_format='jpg',\n",
        "                                            target_size=(224,224),\n",
        "                                            batch_size=batch_size)\n",
        "  \n",
        "  create_image=6000\n",
        "\n",
        "  num_files = len(os.listdir(image_directory))\n",
        "  num_batches = int(np.ceil((create_image-num_files)/batch_size))\n",
        "\n",
        "  for i in range(0,num_batches):\n",
        "    imgs,labels = next(aug_datagen)\n",
        "\n",
        "  shutil.rmtree('augmentation')\n",
        "\n"
      ],
      "execution_count": 0,
      "outputs": []
    },
    {
      "cell_type": "code",
      "metadata": {
        "id": "5fK8kX6JJrmh",
        "colab_type": "code",
        "colab": {}
      },
      "source": [
        "print(len(os.listdir('/content/gdrive/My Drive/Deep Learning Projects/skincancer/skin_cancer_classified/training_directory//bcc')))\n",
        "print(len(os.listdir('/content/gdrive/My Drive/Deep Learning Projects/skincancer/skin_cancer_classified/training_directory//bkl')))\n",
        "print(len(os.listdir('/content/gdrive/My Drive/Deep Learning Projects/skincancer/skin_cancer_classified/training_directory//akiec')))\n",
        "print(len(os.listdir('/content/gdrive/My Drive/Deep Learning Projects/skincancer/skin_cancer_classified/training_directory//vasc')))\n",
        "print(len(os.listdir('/content/gdrive/My Drive/Deep Learning Projects/skincancer/skin_cancer_classified/training_directory//df')))\n",
        "print(len(os.listdir('/content/gdrive/My Drive/Deep Learning Projects/skincancer/skin_cancer_classified/training_directory//mel')))"
      ],
      "execution_count": 0,
      "outputs": []
    },
    {
      "cell_type": "code",
      "metadata": {
        "id": "JJTe1HEszXIe",
        "colab_type": "code",
        "outputId": "720affa0-fa2d-4a79-af61-8b7d02f06b27",
        "colab": {
          "base_uri": "https://localhost:8080/",
          "height": 34
        }
      },
      "source": [
        "#Now we almost have 5k images for each classes\n",
        "#Now using pretrained models to train the skin lesion problem using training dataset\n",
        "\n",
        "#Looking at couple of AI papers,it looks like Densenet architecture will do a better classification and it is also one of the most recent architecture in deep learning\n",
        "\n",
        "#Densenet architecture(Particularly Densenet-201) not 121\n",
        "%tensorflow_version 1.x\n",
        "import tensorflow as tf\n",
        "from tensorflow.keras.applications import DenseNet201\n",
        "from tensorflow.keras import layers\n",
        "from tensorflow.keras.models import Sequential,Model,load_model \n",
        "from tensorflow.keras.layers import Convolution2D\n",
        "from tensorflow.keras.layers import MaxPooling2D\n",
        "from tensorflow.keras.layers import Flatten,Dense,Activation,Dropout\n",
        "from tensorflow.keras.callbacks import EarlyStopping,ReduceLROnPlateau,ModelCheckpoint,Callback\n",
        "from tensorflow.keras.preprocessing.image import ImageDataGenerator\n",
        "from tensorflow.keras.models import Model "
      ],
      "execution_count": 7,
      "outputs": [
        {
          "output_type": "stream",
          "text": [
            "TensorFlow 1.x selected.\n"
          ],
          "name": "stdout"
        }
      ]
    },
    {
      "cell_type": "code",
      "metadata": {
        "id": "CTppMKJR4Nwn",
        "colab_type": "code",
        "colab": {}
      },
      "source": [
        "image_width,image_height=224,224 #Assigning height and width ---Densenet is trained in 224*224 dimensions \n",
        "training_samples = 33068 #No of training sample\n",
        "testing_samples = 1103 #Number of validation sample\n",
        "epochs = 40\n",
        "batch_size = 10 #Taking the batch_size of 10 \n",
        "n_classes = 7 #Number of classes is 7. We have 7 categories of skin disease\n",
        "\n",
        "num_training_data = len(training_data)\n",
        "num_data_val = len(data_val)\n",
        "\n",
        "training_steps = np.ceil(num_training_data/batch_size)\n",
        "testing_steps = np.ceil(num_data_val/batch_size)"
      ],
      "execution_count": 0,
      "outputs": []
    },
    {
      "cell_type": "code",
      "metadata": {
        "id": "SQ2pB45Y7-5h",
        "colab_type": "code",
        "colab": {}
      },
      "source": [
        "training_folder = '/content/gdrive/My Drive/Deep Learning Projects/skincancer/skin_cancer_classified/training_directory/'\n",
        "testing_folder = '/content/gdrive/My Drive/Deep Learning Projects/skincancer/skin_cancer_classified/testing_directory/'"
      ],
      "execution_count": 0,
      "outputs": []
    },
    {
      "cell_type": "code",
      "metadata": {
        "id": "MJINUmtg9mCT",
        "colab_type": "code",
        "colab": {}
      },
      "source": [
        "datagen = ImageDataGenerator(\n",
        "    preprocessing_function= \\\n",
        "    tf.keras.applications.densenet.preprocess_input)\n",
        "#Using the same pre processing technique that was applied to the original rgb images for densenet architecture"
      ],
      "execution_count": 0,
      "outputs": []
    },
    {
      "cell_type": "code",
      "metadata": {
        "id": "gQtcl-mJHLj-",
        "colab_type": "code",
        "outputId": "0d0c1e18-860a-40a7-8a3c-f9b39f42011d",
        "colab": {
          "base_uri": "https://localhost:8080/",
          "height": 35
        }
      },
      "source": [
        "training_batches = datagen.flow_from_directory(training_folder,\n",
        "                                               target_size=(image_height,image_width),\n",
        "                                               batch_size = batch_size)"
      ],
      "execution_count": 0,
      "outputs": [
        {
          "output_type": "stream",
          "text": [
            "Found 21247 images belonging to 7 classes.\n"
          ],
          "name": "stdout"
        }
      ]
    },
    {
      "cell_type": "code",
      "metadata": {
        "id": "l59HdhR9HhHK",
        "colab_type": "code",
        "outputId": "4178ccb9-d154-414b-845a-df458a7ddce8",
        "colab": {
          "base_uri": "https://localhost:8080/",
          "height": 35
        }
      },
      "source": [
        "testing_batches = datagen.flow_from_directory(testing_folder,\n",
        "                                              target_size=(image_height,image_width),\n",
        "                                              batch_size = batch_size)"
      ],
      "execution_count": 0,
      "outputs": [
        {
          "output_type": "stream",
          "text": [
            "Found 1102 images belonging to 7 classes.\n"
          ],
          "name": "stdout"
        }
      ]
    },
    {
      "cell_type": "code",
      "metadata": {
        "id": "bQ_hs0R1wcAM",
        "colab_type": "code",
        "colab": {}
      },
      "source": [
        "#When you use a pretrained network, you have to freeze some layers in the network\n",
        "#Since we are using densenet201, let's see the properties of the network first\n",
        "\n",
        "network = tf.keras.applications.densenet.DenseNet201() #Assigning a variable to densenet121 network"
      ],
      "execution_count": 0,
      "outputs": []
    },
    {
      "cell_type": "code",
      "metadata": {
        "id": "phkb2e2CxQGz",
        "colab_type": "code",
        "colab": {}
      },
      "source": [
        "network.summary() #Checking the CNN architecture of Dense121 network"
      ],
      "execution_count": 0,
      "outputs": []
    },
    {
      "cell_type": "code",
      "metadata": {
        "id": "ZUQ2pEbZxg94",
        "colab_type": "code",
        "outputId": "786302e4-ab45-443f-a9c3-fd886e212222",
        "colab": {
          "base_uri": "https://localhost:8080/",
          "height": 35
        }
      },
      "source": [
        "len(network.layers) #There are alltogether 429 layers in the network"
      ],
      "execution_count": 0,
      "outputs": [
        {
          "output_type": "execute_result",
          "data": {
            "text/plain": [
              "709"
            ]
          },
          "metadata": {
            "tags": []
          },
          "execution_count": 28
        }
      ]
    },
    {
      "cell_type": "code",
      "metadata": {
        "id": "JU7Nz2Fx_1ur",
        "colab_type": "code",
        "colab": {}
      },
      "source": [
        "#Creating the model architecture by removing the last 40 layers from the network\n",
        "engineered_network = network.layers[-40].output"
      ],
      "execution_count": 0,
      "outputs": []
    },
    {
      "cell_type": "code",
      "metadata": {
        "id": "HttkTjlwweY4",
        "colab_type": "code",
        "colab": {}
      },
      "source": [
        "network.summary()"
      ],
      "execution_count": 0,
      "outputs": []
    },
    {
      "cell_type": "code",
      "metadata": {
        "id": "Le5fCEfBCAgj",
        "colab_type": "code",
        "colab": {}
      },
      "source": [
        "engineered_network = Dropout(0.20)(engineered_network)"
      ],
      "execution_count": 0,
      "outputs": []
    },
    {
      "cell_type": "code",
      "metadata": {
        "id": "KvwylIxJSZrG",
        "colab_type": "code",
        "colab": {}
      },
      "source": [
        "engineered_network = Flatten()(engineered_network)"
      ],
      "execution_count": 0,
      "outputs": []
    },
    {
      "cell_type": "code",
      "metadata": {
        "id": "dNdWgR16D4rx",
        "colab_type": "code",
        "colab": {}
      },
      "source": [
        "predictions = Dense(7,activation='softmax')(engineered_network) #7 for the 7 classes we have"
      ],
      "execution_count": 0,
      "outputs": []
    },
    {
      "cell_type": "code",
      "metadata": {
        "id": "xM0GElmyD_NR",
        "colab_type": "code",
        "colab": {}
      },
      "source": [
        "final_model = Model(inputs = network.input, outputs = predictions)"
      ],
      "execution_count": 0,
      "outputs": []
    },
    {
      "cell_type": "code",
      "metadata": {
        "id": "X2kTdK56Fali",
        "colab_type": "code",
        "colab": {}
      },
      "source": [
        "final_model.summary()"
      ],
      "execution_count": 0,
      "outputs": []
    },
    {
      "cell_type": "code",
      "metadata": {
        "id": "bgclOhkqEuEh",
        "colab_type": "code",
        "colab": {}
      },
      "source": [
        "#Because it is a pretrained neural network, we need to choose how many layers we want our neural network to be trained. \n",
        "#Freezing all layer weights except the last 100\n",
        "#layers in the newly created model\n",
        "#meaning the last 100 layers of the model will be trained\n",
        "\n",
        "for layer in final_model.layers[:-100]:\n",
        "  layer.trainable = False"
      ],
      "execution_count": 0,
      "outputs": []
    },
    {
      "cell_type": "code",
      "metadata": {
        "id": "S3TkvCa6Pamu",
        "colab_type": "code",
        "colab": {}
      },
      "source": [
        "from tensorflow.keras.metrics import categorical_accuracy, top_k_categorical_accuracy\n",
        "\n",
        "def top_two_accuracy(y_true,y_pred):\n",
        "  return top_k_categorical_accuracy(y_true,y_pred,k=2)"
      ],
      "execution_count": 0,
      "outputs": []
    },
    {
      "cell_type": "code",
      "metadata": {
        "id": "2tT_w129JXg_",
        "colab_type": "code",
        "colab": {}
      },
      "source": [
        "final_model.compile(optimizer='Adam',loss='categorical_crossentropy',metrics=[categorical_accuracy,top_two_accuracy])"
      ],
      "execution_count": 0,
      "outputs": []
    },
    {
      "cell_type": "code",
      "metadata": {
        "id": "gMpEDsYzuUuq",
        "colab_type": "code",
        "colab": {}
      },
      "source": [
        "print(training_batches.class_indices) #Checking oout the number(class indices)"
      ],
      "execution_count": 0,
      "outputs": []
    },
    {
      "cell_type": "code",
      "metadata": {
        "id": "_BTPUH9Ku7Su",
        "colab_type": "code",
        "colab": {}
      },
      "source": [
        "#Assigning the class wights so that it can be sensitive to melanoma because we cannot take risk on it to misdiagonise\n",
        "class_weights = {\n",
        "    0: 1.0, #akiec\n",
        "    1: 1.0, #bcc\n",
        "    2: 1.0, #bkl\n",
        "    3: 1.0, #df\n",
        "    4: 2.0, #melanoma\n",
        "    5: 1.0, #nv\n",
        "    6: 1.0, #vasc\n",
        "} "
      ],
      "execution_count": 0,
      "outputs": []
    },
    {
      "cell_type": "code",
      "metadata": {
        "id": "wbncysewZ-nz",
        "colab_type": "code",
        "colab": {}
      },
      "source": [
        " #ReduceLROnPlateau that will adjust the learning rate when a plateau in model performance is detected, e.g. no change for a given number of training epochs. \n",
        " #This callback is designed to reduce the learning rate after the model stops improving with the hope of fine-tuning model weights.\n",
        " filepath = '/content/gdrive/My Drive/Deep Learning Projects/skincancer/skin_cancer_classified/cancermodel.h5'\n",
        " checkpoint = ModelCheckpoint(filepath,monitor = 'val_top_two_accuracy',verbose=1,save_best_only=True, mode='max') #max when the model accuracy has stopped increasing\n",
        "\n",
        "learning_rate_reduced = ReduceLROnPlateau(monitor = 'val_top_two_accuracy',factor =0.5, patience =2, verbose=1, mode='max', min_lr=0.000003) \n"
      ],
      "execution_count": 0,
      "outputs": []
    },
    {
      "cell_type": "code",
      "metadata": {
        "id": "RODqF_bAo-AH",
        "colab_type": "code",
        "colab": {}
      },
      "source": [
        "#First training yielded\n",
        "#Epoch 100/100\n",
        "#36/36 [==============================] - 349s 10s/step - loss: 0.2844 - acc: 0.9361 - val_loss: 2.6744 - val_acc: 0.7682\n",
        "\n",
        "#Since validation accuracy isn't very satisfying we are going to be using reduceLRonplateu method that will reduce the learning rate once the learning gets stagnant at some epochs\n",
        "\n",
        "#Second training time was around the same accuracy\n",
        "#Since training loss isn't getting any better or worse, the issue here is that the optimizer is stalling at a local minimum. \n",
        "#Decreased the minimum learning rate and unfreezing more layers.\n",
        "\n",
        "#Third attempt was to use categorical_accuracy instead of just accuracy and changed the steps_per epoch value (training data / epochs)\n",
        "#Same with the validation steps\n",
        "#Stopped at 10 epochs. Continuing ...\n",
        "\n",
        "\n",
        "#End result..............................................................................................................................\n",
        "\n",
        "#891/892 [============================>.] - ETA: 6s - loss: 0.0212 - categorical_accuracy: 0.9930 - top_two_accuracy: 0.9999 Epoch 1/10\n",
        "#111/892 [==>...........................] - ETA: 38:40 - loss: 2.2958 - categorical_accuracy: 0.7967 - top_two_accuracy: 0.8711\n",
        "#Epoch 00002: val_top_two_accuracy improved from 0.86751 to 0.87114, saving model to /content/gdrive/My Drive/Deep Learning Projects/skincancer/skin_cancer_classified/cancermodel.h5\n",
        "#892/892 [==============================] - 6245s 7s/step - loss: 0.0212 - categorical_accuracy: 0.9930 - top_two_accuracy: 0.9999 - val_loss: 2.2958 - val_categorical_accuracy: 0.8020 - val_top_two_accuracy: 0.8711\n"
      ],
      "execution_count": 0,
      "outputs": []
    },
    {
      "cell_type": "code",
      "metadata": {
        "id": "nOjYuNCQThDR",
        "colab_type": "code",
        "colab": {}
      },
      "source": [
        "callbacks_list = [checkpoint,learning_rate_reduced]"
      ],
      "execution_count": 0,
      "outputs": []
    },
    {
      "cell_type": "code",
      "metadata": {
        "id": "wDBNpnazklNy",
        "colab_type": "code",
        "colab": {}
      },
      "source": [
        "saved_model = tf.keras.models.load_model(filepath,custom_objects={\"top_two_accuracy\": top_two_accuracy}) #Use this when retraining the model from the point where you canceled the training"
      ],
      "execution_count": 0,
      "outputs": []
    },
    {
      "cell_type": "code",
      "metadata": {
        "id": "tHbe2DXuvk_J",
        "colab_type": "code",
        "colab": {}
      },
      "source": [
        "network_training = saved_model.fit_generator(training_batches,\n",
        "                                             steps_per_epoch=training_steps,\n",
        "                                             #class_weight=class_weights, #Remove the '#' if you are not retraining it cause the weights has already been saved before so no need to call the class_weights again\n",
        "                                             validation_data = testing_batches,\n",
        "                                             validation_steps = testing_steps,\n",
        "                                             epochs=10,\n",
        "                                             verbose = 1,\n",
        "                                             callbacks = callbacks_list)\n"
      ],
      "execution_count": 0,
      "outputs": []
    },
    {
      "cell_type": "code",
      "metadata": {
        "id": "M6odPyl3agaz",
        "colab_type": "code",
        "colab": {}
      },
      "source": [
        "saved_model = tf.keras.models.load_model('/content/gdrive/My Drive/Deep Learning Projects/skincancer/skin_cancer_classified/cancermodel.h5',custom_objects={\"top_two_accuracy\": top_two_accuracy})"
      ],
      "execution_count": 0,
      "outputs": []
    },
    {
      "cell_type": "code",
      "metadata": {
        "id": "PmFxlkwDbkse",
        "colab_type": "code",
        "colab": {}
      },
      "source": [
        "from PIL import Image\n",
        "import numpy as np\n",
        "from skimage import transform\n",
        "\n",
        "custom_image = '/content/gdrive/My Drive/Deep Learning Projects/skincancer/custom images from internet for testing/bcc.jpg'\n",
        "def load(filename):\n",
        "   np_image = Image.open(filename)\n",
        "   np_image = np.array(np_image).astype('float32')/255\n",
        "   np_image = transform.resize(np_image, (224, 224, 3))\n",
        "   np_image = np.expand_dims(np_image, axis=0)\n",
        "   return np_image\n",
        "\n",
        "image_load = load(custom_image)\n",
        "prediction = saved_model.predict(image_load)[0] #Creates a one dimensional list by adding [0]\n",
        "\n",
        "max_value = prediction.max()\n",
        "\n",
        "\n",
        "if prediction[0]==max_value:\n",
        "  print('The disease is classified as Actinic Keratoses')\n",
        "elif prediction[1]==max_value:\n",
        "  print('The disease is classified as Basal Cell Carcinoma')\n",
        "elif prediction[2]==max_value:\n",
        "  print('The disease is classified as Benign Keratosis like lesion')\n",
        "elif prediction[3]==max_value:\n",
        "  print('The disease is classified as Dermatofibroma')\n",
        "elif prediction[4]==max_value:\n",
        "  print('The disease is classified as Melanoma')\n",
        "elif prediction[5]==max_value:\n",
        "  print('The disease is classified as Melanocytic Nevi')\n",
        "elif prediction[6]==max_value:\n",
        "  print ('The disease is classified as Vascular Lesions')\n",
        "else:\n",
        "  print('Disease could not be identified. Try a different picture')\n",
        "  "
      ],
      "execution_count": 0,
      "outputs": []
    }
  ]
}